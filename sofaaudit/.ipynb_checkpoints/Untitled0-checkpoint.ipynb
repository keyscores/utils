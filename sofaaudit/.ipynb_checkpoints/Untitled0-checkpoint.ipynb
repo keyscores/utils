{
 "metadata": {
  "name": "",
  "signature": "sha256:68cac644b84793c30abb03aeb5b2fae06c9a5775fb87a0a24330892146c29277"
 },
 "nbformat": 3,
 "nbformat_minor": 0,
 "worksheets": [
  {
   "cells": [
    {
     "cell_type": "code",
     "collapsed": false,
     "input": [
      "import datetime\n",
      "import pandas as pd\n",
      "import numpy as np\n",
      "filename_apple=\"test.xlsx\"\n",
      "df = pd.read_excel(filename_apple)"
     ],
     "language": "python",
     "metadata": {},
     "outputs": [],
     "prompt_number": 4
    },
    {
     "cell_type": "code",
     "collapsed": false,
     "input": [],
     "language": "python",
     "metadata": {},
     "outputs": []
    },
    {
     "cell_type": "code",
     "collapsed": false,
     "input": [],
     "language": "python",
     "metadata": {},
     "outputs": []
    }
   ],
   "metadata": {}
  }
 ]
}